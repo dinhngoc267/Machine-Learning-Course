{
  "nbformat": 4,
  "nbformat_minor": 0,
  "metadata": {
    "accelerator": "GPU",
    "colab": {
      "name": "NLI_Contradictory,_My_Dear_Watson.ipynb",
      "provenance": [],
      "collapsed_sections": [
        "6I6-HizfiT9E"
      ],
      "include_colab_link": true
    },
    "kernelspec": {
      "display_name": "Python 3",
      "name": "python3"
    },
    "language_info": {
      "name": "python"
    },
    "widgets": {
      "application/vnd.jupyter.widget-state+json": {
        "24e3a4e3e37240f7aa640706db4ec61c": {
          "model_module": "@jupyter-widgets/controls",
          "model_name": "HBoxModel",
          "state": {
            "_view_name": "HBoxView",
            "_dom_classes": [],
            "_model_name": "HBoxModel",
            "_view_module": "@jupyter-widgets/controls",
            "_model_module_version": "1.5.0",
            "_view_count": null,
            "_view_module_version": "1.5.0",
            "box_style": "",
            "layout": "IPY_MODEL_891f97f96fbf4d66bd58f0d784e3a275",
            "_model_module": "@jupyter-widgets/controls",
            "children": [
              "IPY_MODEL_5486e1693c674b68aa8439c1c54d1b2c",
              "IPY_MODEL_5112f6327be54eef970604b8d1659f70"
            ]
          }
        },
        "891f97f96fbf4d66bd58f0d784e3a275": {
          "model_module": "@jupyter-widgets/base",
          "model_name": "LayoutModel",
          "state": {
            "_view_name": "LayoutView",
            "grid_template_rows": null,
            "right": null,
            "justify_content": null,
            "_view_module": "@jupyter-widgets/base",
            "overflow": null,
            "_model_module_version": "1.2.0",
            "_view_count": null,
            "flex_flow": null,
            "width": null,
            "min_width": null,
            "border": null,
            "align_items": null,
            "bottom": null,
            "_model_module": "@jupyter-widgets/base",
            "top": null,
            "grid_column": null,
            "overflow_y": null,
            "overflow_x": null,
            "grid_auto_flow": null,
            "grid_area": null,
            "grid_template_columns": null,
            "flex": null,
            "_model_name": "LayoutModel",
            "justify_items": null,
            "grid_row": null,
            "max_height": null,
            "align_content": null,
            "visibility": null,
            "align_self": null,
            "height": null,
            "min_height": null,
            "padding": null,
            "grid_auto_rows": null,
            "grid_gap": null,
            "max_width": null,
            "order": null,
            "_view_module_version": "1.2.0",
            "grid_template_areas": null,
            "object_position": null,
            "object_fit": null,
            "grid_auto_columns": null,
            "margin": null,
            "display": null,
            "left": null
          }
        },
        "5486e1693c674b68aa8439c1c54d1b2c": {
          "model_module": "@jupyter-widgets/controls",
          "model_name": "FloatProgressModel",
          "state": {
            "_view_name": "ProgressView",
            "style": "IPY_MODEL_a2a8c6fcc3f740cebd93e12ef387981b",
            "_dom_classes": [],
            "description": "Downloading: 100%",
            "_model_name": "FloatProgressModel",
            "bar_style": "success",
            "max": 995526,
            "_view_module": "@jupyter-widgets/controls",
            "_model_module_version": "1.5.0",
            "value": 995526,
            "_view_count": null,
            "_view_module_version": "1.5.0",
            "orientation": "horizontal",
            "min": 0,
            "description_tooltip": null,
            "_model_module": "@jupyter-widgets/controls",
            "layout": "IPY_MODEL_a7fc08c1a5cd44129cedce22651019eb"
          }
        },
        "5112f6327be54eef970604b8d1659f70": {
          "model_module": "@jupyter-widgets/controls",
          "model_name": "HTMLModel",
          "state": {
            "_view_name": "HTMLView",
            "style": "IPY_MODEL_eaebc3d0398f4da99d355efb99012b06",
            "_dom_classes": [],
            "description": "",
            "_model_name": "HTMLModel",
            "placeholder": "​",
            "_view_module": "@jupyter-widgets/controls",
            "_model_module_version": "1.5.0",
            "value": " 996k/996k [00:00&lt;00:00, 4.42MB/s]",
            "_view_count": null,
            "_view_module_version": "1.5.0",
            "description_tooltip": null,
            "_model_module": "@jupyter-widgets/controls",
            "layout": "IPY_MODEL_8b4fcd2499e24cae80cd4bc37477566d"
          }
        },
        "a2a8c6fcc3f740cebd93e12ef387981b": {
          "model_module": "@jupyter-widgets/controls",
          "model_name": "ProgressStyleModel",
          "state": {
            "_view_name": "StyleView",
            "_model_name": "ProgressStyleModel",
            "description_width": "initial",
            "_view_module": "@jupyter-widgets/base",
            "_model_module_version": "1.5.0",
            "_view_count": null,
            "_view_module_version": "1.2.0",
            "bar_color": null,
            "_model_module": "@jupyter-widgets/controls"
          }
        },
        "a7fc08c1a5cd44129cedce22651019eb": {
          "model_module": "@jupyter-widgets/base",
          "model_name": "LayoutModel",
          "state": {
            "_view_name": "LayoutView",
            "grid_template_rows": null,
            "right": null,
            "justify_content": null,
            "_view_module": "@jupyter-widgets/base",
            "overflow": null,
            "_model_module_version": "1.2.0",
            "_view_count": null,
            "flex_flow": null,
            "width": null,
            "min_width": null,
            "border": null,
            "align_items": null,
            "bottom": null,
            "_model_module": "@jupyter-widgets/base",
            "top": null,
            "grid_column": null,
            "overflow_y": null,
            "overflow_x": null,
            "grid_auto_flow": null,
            "grid_area": null,
            "grid_template_columns": null,
            "flex": null,
            "_model_name": "LayoutModel",
            "justify_items": null,
            "grid_row": null,
            "max_height": null,
            "align_content": null,
            "visibility": null,
            "align_self": null,
            "height": null,
            "min_height": null,
            "padding": null,
            "grid_auto_rows": null,
            "grid_gap": null,
            "max_width": null,
            "order": null,
            "_view_module_version": "1.2.0",
            "grid_template_areas": null,
            "object_position": null,
            "object_fit": null,
            "grid_auto_columns": null,
            "margin": null,
            "display": null,
            "left": null
          }
        },
        "eaebc3d0398f4da99d355efb99012b06": {
          "model_module": "@jupyter-widgets/controls",
          "model_name": "DescriptionStyleModel",
          "state": {
            "_view_name": "StyleView",
            "_model_name": "DescriptionStyleModel",
            "description_width": "",
            "_view_module": "@jupyter-widgets/base",
            "_model_module_version": "1.5.0",
            "_view_count": null,
            "_view_module_version": "1.2.0",
            "_model_module": "@jupyter-widgets/controls"
          }
        },
        "8b4fcd2499e24cae80cd4bc37477566d": {
          "model_module": "@jupyter-widgets/base",
          "model_name": "LayoutModel",
          "state": {
            "_view_name": "LayoutView",
            "grid_template_rows": null,
            "right": null,
            "justify_content": null,
            "_view_module": "@jupyter-widgets/base",
            "overflow": null,
            "_model_module_version": "1.2.0",
            "_view_count": null,
            "flex_flow": null,
            "width": null,
            "min_width": null,
            "border": null,
            "align_items": null,
            "bottom": null,
            "_model_module": "@jupyter-widgets/base",
            "top": null,
            "grid_column": null,
            "overflow_y": null,
            "overflow_x": null,
            "grid_auto_flow": null,
            "grid_area": null,
            "grid_template_columns": null,
            "flex": null,
            "_model_name": "LayoutModel",
            "justify_items": null,
            "grid_row": null,
            "max_height": null,
            "align_content": null,
            "visibility": null,
            "align_self": null,
            "height": null,
            "min_height": null,
            "padding": null,
            "grid_auto_rows": null,
            "grid_gap": null,
            "max_width": null,
            "order": null,
            "_view_module_version": "1.2.0",
            "grid_template_areas": null,
            "object_position": null,
            "object_fit": null,
            "grid_auto_columns": null,
            "margin": null,
            "display": null,
            "left": null
          }
        },
        "2851cc3244e54dee91c4e2483e7699f6": {
          "model_module": "@jupyter-widgets/controls",
          "model_name": "HBoxModel",
          "state": {
            "_view_name": "HBoxView",
            "_dom_classes": [],
            "_model_name": "HBoxModel",
            "_view_module": "@jupyter-widgets/controls",
            "_model_module_version": "1.5.0",
            "_view_count": null,
            "_view_module_version": "1.5.0",
            "box_style": "",
            "layout": "IPY_MODEL_5e8c30a296f84602bdeb67477d85ff0b",
            "_model_module": "@jupyter-widgets/controls",
            "children": [
              "IPY_MODEL_ee6279c5ef78459185ae01934708c9ea",
              "IPY_MODEL_5b1b003553624142b7d46017ab885042"
            ]
          }
        },
        "5e8c30a296f84602bdeb67477d85ff0b": {
          "model_module": "@jupyter-widgets/base",
          "model_name": "LayoutModel",
          "state": {
            "_view_name": "LayoutView",
            "grid_template_rows": null,
            "right": null,
            "justify_content": null,
            "_view_module": "@jupyter-widgets/base",
            "overflow": null,
            "_model_module_version": "1.2.0",
            "_view_count": null,
            "flex_flow": null,
            "width": null,
            "min_width": null,
            "border": null,
            "align_items": null,
            "bottom": null,
            "_model_module": "@jupyter-widgets/base",
            "top": null,
            "grid_column": null,
            "overflow_y": null,
            "overflow_x": null,
            "grid_auto_flow": null,
            "grid_area": null,
            "grid_template_columns": null,
            "flex": null,
            "_model_name": "LayoutModel",
            "justify_items": null,
            "grid_row": null,
            "max_height": null,
            "align_content": null,
            "visibility": null,
            "align_self": null,
            "height": null,
            "min_height": null,
            "padding": null,
            "grid_auto_rows": null,
            "grid_gap": null,
            "max_width": null,
            "order": null,
            "_view_module_version": "1.2.0",
            "grid_template_areas": null,
            "object_position": null,
            "object_fit": null,
            "grid_auto_columns": null,
            "margin": null,
            "display": null,
            "left": null
          }
        },
        "ee6279c5ef78459185ae01934708c9ea": {
          "model_module": "@jupyter-widgets/controls",
          "model_name": "FloatProgressModel",
          "state": {
            "_view_name": "ProgressView",
            "style": "IPY_MODEL_06d77a2176744061884cdfaf86af8212",
            "_dom_classes": [],
            "description": "Downloading: 100%",
            "_model_name": "FloatProgressModel",
            "bar_style": "success",
            "max": 29,
            "_view_module": "@jupyter-widgets/controls",
            "_model_module_version": "1.5.0",
            "value": 29,
            "_view_count": null,
            "_view_module_version": "1.5.0",
            "orientation": "horizontal",
            "min": 0,
            "description_tooltip": null,
            "_model_module": "@jupyter-widgets/controls",
            "layout": "IPY_MODEL_0e83a83556e94dcc990b307aebd3cf0c"
          }
        },
        "5b1b003553624142b7d46017ab885042": {
          "model_module": "@jupyter-widgets/controls",
          "model_name": "HTMLModel",
          "state": {
            "_view_name": "HTMLView",
            "style": "IPY_MODEL_480d41a3289a4573b2f152d093ecc201",
            "_dom_classes": [],
            "description": "",
            "_model_name": "HTMLModel",
            "placeholder": "​",
            "_view_module": "@jupyter-widgets/controls",
            "_model_module_version": "1.5.0",
            "value": " 29.0/29.0 [00:00&lt;00:00, 104B/s]",
            "_view_count": null,
            "_view_module_version": "1.5.0",
            "description_tooltip": null,
            "_model_module": "@jupyter-widgets/controls",
            "layout": "IPY_MODEL_4fd2ff55d164437687fd1e3e4110c975"
          }
        },
        "06d77a2176744061884cdfaf86af8212": {
          "model_module": "@jupyter-widgets/controls",
          "model_name": "ProgressStyleModel",
          "state": {
            "_view_name": "StyleView",
            "_model_name": "ProgressStyleModel",
            "description_width": "initial",
            "_view_module": "@jupyter-widgets/base",
            "_model_module_version": "1.5.0",
            "_view_count": null,
            "_view_module_version": "1.2.0",
            "bar_color": null,
            "_model_module": "@jupyter-widgets/controls"
          }
        },
        "0e83a83556e94dcc990b307aebd3cf0c": {
          "model_module": "@jupyter-widgets/base",
          "model_name": "LayoutModel",
          "state": {
            "_view_name": "LayoutView",
            "grid_template_rows": null,
            "right": null,
            "justify_content": null,
            "_view_module": "@jupyter-widgets/base",
            "overflow": null,
            "_model_module_version": "1.2.0",
            "_view_count": null,
            "flex_flow": null,
            "width": null,
            "min_width": null,
            "border": null,
            "align_items": null,
            "bottom": null,
            "_model_module": "@jupyter-widgets/base",
            "top": null,
            "grid_column": null,
            "overflow_y": null,
            "overflow_x": null,
            "grid_auto_flow": null,
            "grid_area": null,
            "grid_template_columns": null,
            "flex": null,
            "_model_name": "LayoutModel",
            "justify_items": null,
            "grid_row": null,
            "max_height": null,
            "align_content": null,
            "visibility": null,
            "align_self": null,
            "height": null,
            "min_height": null,
            "padding": null,
            "grid_auto_rows": null,
            "grid_gap": null,
            "max_width": null,
            "order": null,
            "_view_module_version": "1.2.0",
            "grid_template_areas": null,
            "object_position": null,
            "object_fit": null,
            "grid_auto_columns": null,
            "margin": null,
            "display": null,
            "left": null
          }
        },
        "480d41a3289a4573b2f152d093ecc201": {
          "model_module": "@jupyter-widgets/controls",
          "model_name": "DescriptionStyleModel",
          "state": {
            "_view_name": "StyleView",
            "_model_name": "DescriptionStyleModel",
            "description_width": "",
            "_view_module": "@jupyter-widgets/base",
            "_model_module_version": "1.5.0",
            "_view_count": null,
            "_view_module_version": "1.2.0",
            "_model_module": "@jupyter-widgets/controls"
          }
        },
        "4fd2ff55d164437687fd1e3e4110c975": {
          "model_module": "@jupyter-widgets/base",
          "model_name": "LayoutModel",
          "state": {
            "_view_name": "LayoutView",
            "grid_template_rows": null,
            "right": null,
            "justify_content": null,
            "_view_module": "@jupyter-widgets/base",
            "overflow": null,
            "_model_module_version": "1.2.0",
            "_view_count": null,
            "flex_flow": null,
            "width": null,
            "min_width": null,
            "border": null,
            "align_items": null,
            "bottom": null,
            "_model_module": "@jupyter-widgets/base",
            "top": null,
            "grid_column": null,
            "overflow_y": null,
            "overflow_x": null,
            "grid_auto_flow": null,
            "grid_area": null,
            "grid_template_columns": null,
            "flex": null,
            "_model_name": "LayoutModel",
            "justify_items": null,
            "grid_row": null,
            "max_height": null,
            "align_content": null,
            "visibility": null,
            "align_self": null,
            "height": null,
            "min_height": null,
            "padding": null,
            "grid_auto_rows": null,
            "grid_gap": null,
            "max_width": null,
            "order": null,
            "_view_module_version": "1.2.0",
            "grid_template_areas": null,
            "object_position": null,
            "object_fit": null,
            "grid_auto_columns": null,
            "margin": null,
            "display": null,
            "left": null
          }
        },
        "59e8b997427a4b7da2fb45a79e38381a": {
          "model_module": "@jupyter-widgets/controls",
          "model_name": "HBoxModel",
          "state": {
            "_view_name": "HBoxView",
            "_dom_classes": [],
            "_model_name": "HBoxModel",
            "_view_module": "@jupyter-widgets/controls",
            "_model_module_version": "1.5.0",
            "_view_count": null,
            "_view_module_version": "1.5.0",
            "box_style": "",
            "layout": "IPY_MODEL_64df2143540e4b449fbe0d0232364166",
            "_model_module": "@jupyter-widgets/controls",
            "children": [
              "IPY_MODEL_1250dab8e4c34abbb270aefa4eab59e7",
              "IPY_MODEL_5b554f215ade4c5fbb98c5a0ac67c517"
            ]
          }
        },
        "64df2143540e4b449fbe0d0232364166": {
          "model_module": "@jupyter-widgets/base",
          "model_name": "LayoutModel",
          "state": {
            "_view_name": "LayoutView",
            "grid_template_rows": null,
            "right": null,
            "justify_content": null,
            "_view_module": "@jupyter-widgets/base",
            "overflow": null,
            "_model_module_version": "1.2.0",
            "_view_count": null,
            "flex_flow": null,
            "width": null,
            "min_width": null,
            "border": null,
            "align_items": null,
            "bottom": null,
            "_model_module": "@jupyter-widgets/base",
            "top": null,
            "grid_column": null,
            "overflow_y": null,
            "overflow_x": null,
            "grid_auto_flow": null,
            "grid_area": null,
            "grid_template_columns": null,
            "flex": null,
            "_model_name": "LayoutModel",
            "justify_items": null,
            "grid_row": null,
            "max_height": null,
            "align_content": null,
            "visibility": null,
            "align_self": null,
            "height": null,
            "min_height": null,
            "padding": null,
            "grid_auto_rows": null,
            "grid_gap": null,
            "max_width": null,
            "order": null,
            "_view_module_version": "1.2.0",
            "grid_template_areas": null,
            "object_position": null,
            "object_fit": null,
            "grid_auto_columns": null,
            "margin": null,
            "display": null,
            "left": null
          }
        },
        "1250dab8e4c34abbb270aefa4eab59e7": {
          "model_module": "@jupyter-widgets/controls",
          "model_name": "FloatProgressModel",
          "state": {
            "_view_name": "ProgressView",
            "style": "IPY_MODEL_7ea38b7b4a0a4db0a21bc7818a960f23",
            "_dom_classes": [],
            "description": "Downloading: 100%",
            "_model_name": "FloatProgressModel",
            "bar_style": "success",
            "max": 1961828,
            "_view_module": "@jupyter-widgets/controls",
            "_model_module_version": "1.5.0",
            "value": 1961828,
            "_view_count": null,
            "_view_module_version": "1.5.0",
            "orientation": "horizontal",
            "min": 0,
            "description_tooltip": null,
            "_model_module": "@jupyter-widgets/controls",
            "layout": "IPY_MODEL_23e035c3824c472496aa1fbec1c211c9"
          }
        },
        "5b554f215ade4c5fbb98c5a0ac67c517": {
          "model_module": "@jupyter-widgets/controls",
          "model_name": "HTMLModel",
          "state": {
            "_view_name": "HTMLView",
            "style": "IPY_MODEL_ba6964e1c1cd4f5aa968011a2773a732",
            "_dom_classes": [],
            "description": "",
            "_model_name": "HTMLModel",
            "placeholder": "​",
            "_view_module": "@jupyter-widgets/controls",
            "_model_module_version": "1.5.0",
            "value": " 1.96M/1.96M [00:00&lt;00:00, 11.2MB/s]",
            "_view_count": null,
            "_view_module_version": "1.5.0",
            "description_tooltip": null,
            "_model_module": "@jupyter-widgets/controls",
            "layout": "IPY_MODEL_b7dd5bdd97474da6bd0ed77462432843"
          }
        },
        "7ea38b7b4a0a4db0a21bc7818a960f23": {
          "model_module": "@jupyter-widgets/controls",
          "model_name": "ProgressStyleModel",
          "state": {
            "_view_name": "StyleView",
            "_model_name": "ProgressStyleModel",
            "description_width": "initial",
            "_view_module": "@jupyter-widgets/base",
            "_model_module_version": "1.5.0",
            "_view_count": null,
            "_view_module_version": "1.2.0",
            "bar_color": null,
            "_model_module": "@jupyter-widgets/controls"
          }
        },
        "23e035c3824c472496aa1fbec1c211c9": {
          "model_module": "@jupyter-widgets/base",
          "model_name": "LayoutModel",
          "state": {
            "_view_name": "LayoutView",
            "grid_template_rows": null,
            "right": null,
            "justify_content": null,
            "_view_module": "@jupyter-widgets/base",
            "overflow": null,
            "_model_module_version": "1.2.0",
            "_view_count": null,
            "flex_flow": null,
            "width": null,
            "min_width": null,
            "border": null,
            "align_items": null,
            "bottom": null,
            "_model_module": "@jupyter-widgets/base",
            "top": null,
            "grid_column": null,
            "overflow_y": null,
            "overflow_x": null,
            "grid_auto_flow": null,
            "grid_area": null,
            "grid_template_columns": null,
            "flex": null,
            "_model_name": "LayoutModel",
            "justify_items": null,
            "grid_row": null,
            "max_height": null,
            "align_content": null,
            "visibility": null,
            "align_self": null,
            "height": null,
            "min_height": null,
            "padding": null,
            "grid_auto_rows": null,
            "grid_gap": null,
            "max_width": null,
            "order": null,
            "_view_module_version": "1.2.0",
            "grid_template_areas": null,
            "object_position": null,
            "object_fit": null,
            "grid_auto_columns": null,
            "margin": null,
            "display": null,
            "left": null
          }
        },
        "ba6964e1c1cd4f5aa968011a2773a732": {
          "model_module": "@jupyter-widgets/controls",
          "model_name": "DescriptionStyleModel",
          "state": {
            "_view_name": "StyleView",
            "_model_name": "DescriptionStyleModel",
            "description_width": "",
            "_view_module": "@jupyter-widgets/base",
            "_model_module_version": "1.5.0",
            "_view_count": null,
            "_view_module_version": "1.2.0",
            "_model_module": "@jupyter-widgets/controls"
          }
        },
        "b7dd5bdd97474da6bd0ed77462432843": {
          "model_module": "@jupyter-widgets/base",
          "model_name": "LayoutModel",
          "state": {
            "_view_name": "LayoutView",
            "grid_template_rows": null,
            "right": null,
            "justify_content": null,
            "_view_module": "@jupyter-widgets/base",
            "overflow": null,
            "_model_module_version": "1.2.0",
            "_view_count": null,
            "flex_flow": null,
            "width": null,
            "min_width": null,
            "border": null,
            "align_items": null,
            "bottom": null,
            "_model_module": "@jupyter-widgets/base",
            "top": null,
            "grid_column": null,
            "overflow_y": null,
            "overflow_x": null,
            "grid_auto_flow": null,
            "grid_area": null,
            "grid_template_columns": null,
            "flex": null,
            "_model_name": "LayoutModel",
            "justify_items": null,
            "grid_row": null,
            "max_height": null,
            "align_content": null,
            "visibility": null,
            "align_self": null,
            "height": null,
            "min_height": null,
            "padding": null,
            "grid_auto_rows": null,
            "grid_gap": null,
            "max_width": null,
            "order": null,
            "_view_module_version": "1.2.0",
            "grid_template_areas": null,
            "object_position": null,
            "object_fit": null,
            "grid_auto_columns": null,
            "margin": null,
            "display": null,
            "left": null
          }
        }
      }
    }
  },
  "cells": [
    {
      "cell_type": "markdown",
      "metadata": {
        "id": "view-in-github",
        "colab_type": "text"
      },
      "source": [
        "<a href=\"https://colab.research.google.com/github/dinhngoc267/Machine-Learning-Course/blob/master/NLI_Contradictory%2C_My_Dear_Watson.ipynb\" target=\"_parent\"><img src=\"https://colab.research.google.com/assets/colab-badge.svg\" alt=\"Open In Colab\"/></a>"
      ]
    },
    {
      "cell_type": "markdown",
      "metadata": {
        "id": "AjjPm7cZh7iD"
      },
      "source": [
        "# Import Lib"
      ]
    },
    {
      "cell_type": "code",
      "metadata": {
        "colab": {
          "base_uri": "https://localhost:8080/"
        },
        "id": "9y-bR1VefbSz",
        "outputId": "afef1e29-8da9-414c-843e-a28dbdc7df74"
      },
      "source": [
        "pip install transformers"
      ],
      "execution_count": 1,
      "outputs": [
        {
          "output_type": "stream",
          "text": [
            "Collecting transformers\n",
            "\u001b[?25l  Downloading https://files.pythonhosted.org/packages/d8/b2/57495b5309f09fa501866e225c84532d1fd89536ea62406b2181933fb418/transformers-4.5.1-py3-none-any.whl (2.1MB)\n",
            "\u001b[K     |████████████████████████████████| 2.1MB 17.5MB/s \n",
            "\u001b[?25hRequirement already satisfied: packaging in /usr/local/lib/python3.7/dist-packages (from transformers) (20.9)\n",
            "Collecting sacremoses\n",
            "\u001b[?25l  Downloading https://files.pythonhosted.org/packages/75/ee/67241dc87f266093c533a2d4d3d69438e57d7a90abb216fa076e7d475d4a/sacremoses-0.0.45-py3-none-any.whl (895kB)\n",
            "\u001b[K     |████████████████████████████████| 901kB 51.7MB/s \n",
            "\u001b[?25hRequirement already satisfied: tqdm>=4.27 in /usr/local/lib/python3.7/dist-packages (from transformers) (4.41.1)\n",
            "Requirement already satisfied: numpy>=1.17 in /usr/local/lib/python3.7/dist-packages (from transformers) (1.19.5)\n",
            "Requirement already satisfied: requests in /usr/local/lib/python3.7/dist-packages (from transformers) (2.23.0)\n",
            "Requirement already satisfied: importlib-metadata; python_version < \"3.8\" in /usr/local/lib/python3.7/dist-packages (from transformers) (3.10.1)\n",
            "Collecting tokenizers<0.11,>=0.10.1\n",
            "\u001b[?25l  Downloading https://files.pythonhosted.org/packages/ae/04/5b870f26a858552025a62f1649c20d29d2672c02ff3c3fb4c688ca46467a/tokenizers-0.10.2-cp37-cp37m-manylinux2010_x86_64.whl (3.3MB)\n",
            "\u001b[K     |████████████████████████████████| 3.3MB 55.4MB/s \n",
            "\u001b[?25hRequirement already satisfied: filelock in /usr/local/lib/python3.7/dist-packages (from transformers) (3.0.12)\n",
            "Requirement already satisfied: regex!=2019.12.17 in /usr/local/lib/python3.7/dist-packages (from transformers) (2019.12.20)\n",
            "Requirement already satisfied: pyparsing>=2.0.2 in /usr/local/lib/python3.7/dist-packages (from packaging->transformers) (2.4.7)\n",
            "Requirement already satisfied: joblib in /usr/local/lib/python3.7/dist-packages (from sacremoses->transformers) (1.0.1)\n",
            "Requirement already satisfied: click in /usr/local/lib/python3.7/dist-packages (from sacremoses->transformers) (7.1.2)\n",
            "Requirement already satisfied: six in /usr/local/lib/python3.7/dist-packages (from sacremoses->transformers) (1.15.0)\n",
            "Requirement already satisfied: idna<3,>=2.5 in /usr/local/lib/python3.7/dist-packages (from requests->transformers) (2.10)\n",
            "Requirement already satisfied: urllib3!=1.25.0,!=1.25.1,<1.26,>=1.21.1 in /usr/local/lib/python3.7/dist-packages (from requests->transformers) (1.24.3)\n",
            "Requirement already satisfied: certifi>=2017.4.17 in /usr/local/lib/python3.7/dist-packages (from requests->transformers) (2020.12.5)\n",
            "Requirement already satisfied: chardet<4,>=3.0.2 in /usr/local/lib/python3.7/dist-packages (from requests->transformers) (3.0.4)\n",
            "Requirement already satisfied: zipp>=0.5 in /usr/local/lib/python3.7/dist-packages (from importlib-metadata; python_version < \"3.8\"->transformers) (3.4.1)\n",
            "Requirement already satisfied: typing-extensions>=3.6.4; python_version < \"3.8\" in /usr/local/lib/python3.7/dist-packages (from importlib-metadata; python_version < \"3.8\"->transformers) (3.7.4.3)\n",
            "Installing collected packages: sacremoses, tokenizers, transformers\n",
            "Successfully installed sacremoses-0.0.45 tokenizers-0.10.2 transformers-4.5.1\n"
          ],
          "name": "stdout"
        }
      ]
    },
    {
      "cell_type": "code",
      "metadata": {
        "colab": {
          "base_uri": "https://localhost:8080/"
        },
        "id": "tZHiqgrreKOy",
        "outputId": "d0056f67-daea-4189-b3c1-95563406a2c3"
      },
      "source": [
        "from google.colab import drive\n",
        "drive.mount('/content/drive')"
      ],
      "execution_count": 2,
      "outputs": [
        {
          "output_type": "stream",
          "text": [
            "Mounted at /content/drive\n"
          ],
          "name": "stdout"
        }
      ]
    },
    {
      "cell_type": "code",
      "metadata": {
        "id": "gj2u5cvue4Cc"
      },
      "source": [
        "import numpy as np \n",
        "import pandas as pd \n",
        "import os\n",
        "import seaborn as sns\n",
        "os.environ[\"WANDB_API_KEY\"] = \"0\" ## to silence warning\n",
        "from transformers import BertTokenizer, TFBertModel\n",
        "import matplotlib.pyplot as plt\n",
        "import tensorflow as tf\n",
        "\n",
        "import keras\n",
        "from keras import layers\n",
        "from keras.models import Sequential\n",
        "from keras.optimizers import Adam\n",
        "import keras.backend as K\n",
        "\n",
        "from sklearn.model_selection import train_test_split"
      ],
      "execution_count": 3,
      "outputs": []
    },
    {
      "cell_type": "code",
      "metadata": {
        "colab": {
          "base_uri": "https://localhost:8080/"
        },
        "id": "8Np9ZNPUfZvq",
        "outputId": "b3cdf2fd-1d3f-44ce-f88f-39d8efbdb635"
      },
      "source": [
        "try:\n",
        "    tpu = tf.distribute.cluster_resolver.TPUClusterResolver()\n",
        "    tf.config.experimental_connect_to_cluster(tpu)\n",
        "    tf.tpu.experimental.initialize_tpu_system(tpu)\n",
        "    strategy = tf.distribute.experimental.TPUStrategy(tpu)\n",
        "except ValueError:\n",
        "    strategy = tf.distribute.get_strategy() # for CPU and single GPU\n",
        "    print('Number of replicas:', strategy.num_replicas_in_sync)"
      ],
      "execution_count": null,
      "outputs": [
        {
          "output_type": "stream",
          "text": [
            "Number of replicas: 1\n"
          ],
          "name": "stdout"
        }
      ]
    },
    {
      "cell_type": "markdown",
      "metadata": {
        "id": "9amjmBPHiDDx"
      },
      "source": [
        "# Data Exploration"
      ]
    },
    {
      "cell_type": "markdown",
      "metadata": {
        "id": "HRAkH5PliMoJ"
      },
      "source": [
        "##Load training data"
      ]
    },
    {
      "cell_type": "code",
      "metadata": {
        "id": "7LtMGrqLfpfN"
      },
      "source": [
        "train = pd.read_csv(\"/content/drive/MyDrive/contradictory-my-dear-watson/train.csv\")\n",
        "test = pd.read_csv(\"/content/drive/MyDrive/contradictory-my-dear-watson/test.csv\")"
      ],
      "execution_count": 4,
      "outputs": []
    },
    {
      "cell_type": "code",
      "metadata": {
        "colab": {
          "base_uri": "https://localhost:8080/",
          "height": 206
        },
        "id": "yDl0afOZgWBF",
        "outputId": "6b9f4ee9-695f-42ff-96b2-3fa48663fc64"
      },
      "source": [
        "train.head()"
      ],
      "execution_count": null,
      "outputs": [
        {
          "output_type": "execute_result",
          "data": {
            "text/html": [
              "<div>\n",
              "<style scoped>\n",
              "    .dataframe tbody tr th:only-of-type {\n",
              "        vertical-align: middle;\n",
              "    }\n",
              "\n",
              "    .dataframe tbody tr th {\n",
              "        vertical-align: top;\n",
              "    }\n",
              "\n",
              "    .dataframe thead th {\n",
              "        text-align: right;\n",
              "    }\n",
              "</style>\n",
              "<table border=\"1\" class=\"dataframe\">\n",
              "  <thead>\n",
              "    <tr style=\"text-align: right;\">\n",
              "      <th></th>\n",
              "      <th>id</th>\n",
              "      <th>premise</th>\n",
              "      <th>hypothesis</th>\n",
              "      <th>lang_abv</th>\n",
              "      <th>language</th>\n",
              "      <th>label</th>\n",
              "    </tr>\n",
              "  </thead>\n",
              "  <tbody>\n",
              "    <tr>\n",
              "      <th>0</th>\n",
              "      <td>5130fd2cb5</td>\n",
              "      <td>and these comments were considered in formulat...</td>\n",
              "      <td>The rules developed in the interim were put to...</td>\n",
              "      <td>en</td>\n",
              "      <td>English</td>\n",
              "      <td>0</td>\n",
              "    </tr>\n",
              "    <tr>\n",
              "      <th>1</th>\n",
              "      <td>5b72532a0b</td>\n",
              "      <td>These are issues that we wrestle with in pract...</td>\n",
              "      <td>Practice groups are not permitted to work on t...</td>\n",
              "      <td>en</td>\n",
              "      <td>English</td>\n",
              "      <td>2</td>\n",
              "    </tr>\n",
              "    <tr>\n",
              "      <th>2</th>\n",
              "      <td>3931fbe82a</td>\n",
              "      <td>Des petites choses comme celles-là font une di...</td>\n",
              "      <td>J'essayais d'accomplir quelque chose.</td>\n",
              "      <td>fr</td>\n",
              "      <td>French</td>\n",
              "      <td>0</td>\n",
              "    </tr>\n",
              "    <tr>\n",
              "      <th>3</th>\n",
              "      <td>5622f0c60b</td>\n",
              "      <td>you know they can't really defend themselves l...</td>\n",
              "      <td>They can't defend themselves because of their ...</td>\n",
              "      <td>en</td>\n",
              "      <td>English</td>\n",
              "      <td>0</td>\n",
              "    </tr>\n",
              "    <tr>\n",
              "      <th>4</th>\n",
              "      <td>86aaa48b45</td>\n",
              "      <td>ในการเล่นบทบาทสมมุติก็เช่นกัน โอกาสที่จะได้แสด...</td>\n",
              "      <td>เด็กสามารถเห็นได้ว่าชาติพันธุ์แตกต่างกันอย่างไร</td>\n",
              "      <td>th</td>\n",
              "      <td>Thai</td>\n",
              "      <td>1</td>\n",
              "    </tr>\n",
              "  </tbody>\n",
              "</table>\n",
              "</div>"
            ],
            "text/plain": [
              "           id  ... label\n",
              "0  5130fd2cb5  ...     0\n",
              "1  5b72532a0b  ...     2\n",
              "2  3931fbe82a  ...     0\n",
              "3  5622f0c60b  ...     0\n",
              "4  86aaa48b45  ...     1\n",
              "\n",
              "[5 rows x 6 columns]"
            ]
          },
          "metadata": {
            "tags": []
          },
          "execution_count": 7
        }
      ]
    },
    {
      "cell_type": "markdown",
      "metadata": {
        "id": "IEWaIxGThD_e"
      },
      "source": [
        "0 = entailment, 1 = neutral, 2 = contradiction"
      ]
    },
    {
      "cell_type": "markdown",
      "metadata": {
        "id": "6I6-HizfiT9E"
      },
      "source": [
        "## Statist data by language"
      ]
    },
    {
      "cell_type": "code",
      "metadata": {
        "colab": {
          "base_uri": "https://localhost:8080/"
        },
        "id": "ZLMT-B8ZirMh",
        "outputId": "01548cc6-31db-4414-bcf9-843ff42e56bf"
      },
      "source": [
        "train[\"language\"].value_counts()"
      ],
      "execution_count": null,
      "outputs": [
        {
          "output_type": "execute_result",
          "data": {
            "text/plain": [
              "English       6870\n",
              "Chinese        411\n",
              "Arabic         401\n",
              "French         390\n",
              "Swahili        385\n",
              "Urdu           381\n",
              "Vietnamese     379\n",
              "Russian        376\n",
              "Hindi          374\n",
              "Greek          372\n",
              "Thai           371\n",
              "Spanish        366\n",
              "Turkish        351\n",
              "German         351\n",
              "Bulgarian      342\n",
              "Name: language, dtype: int64"
            ]
          },
          "metadata": {
            "tags": []
          },
          "execution_count": 9
        }
      ]
    },
    {
      "cell_type": "code",
      "metadata": {
        "colab": {
          "base_uri": "https://localhost:8080/",
          "height": 337
        },
        "id": "PvKhVaLqiw5Z",
        "outputId": "5f25ac78-798c-48a7-96f4-2ebc0c6376af"
      },
      "source": [
        "plot = train[\"language\"].value_counts()\n",
        "\n",
        "plt.figure(figsize=(15,5))\n",
        "sns.barplot(x=plot.index, y=plot)"
      ],
      "execution_count": null,
      "outputs": [
        {
          "output_type": "execute_result",
          "data": {
            "text/plain": [
              "<matplotlib.axes._subplots.AxesSubplot at 0x7f97820a0050>"
            ]
          },
          "metadata": {
            "tags": []
          },
          "execution_count": 12
        },
        {
          "output_type": "display_data",
          "data": {
            "image/png": "[encoded data removed]",
            "text/plain": [
              "<Figure size 1080x360 with 1 Axes>"
            ]
          },
          "metadata": {
            "tags": []
          }
        }
      ]
    },
    {
      "cell_type": "code",
      "metadata": {
        "colab": {
          "base_uri": "https://localhost:8080/",
          "height": 575
        },
        "id": "VZWsj8lxgZom",
        "outputId": "65ca90fb-6cfe-46d4-d44e-fa8eca345d2f"
      },
      "source": [
        "labels, frequencies = np.unique(train.language.values, return_counts = True)\n",
        "\n",
        "plt.figure(figsize = (10,10))\n",
        "plt.pie(frequencies,labels = labels, autopct = '%1.1f%%')\n",
        "plt.show()"
      ],
      "execution_count": null,
      "outputs": [
        {
          "output_type": "display_data",
          "data": {
            "image/png": "[encoded data removed]",
            "text/plain": [
              "<Figure size 720x720 with 1 Axes>"
            ]
          },
          "metadata": {
            "tags": []
          }
        }
      ]
    },
    {
      "cell_type": "markdown",
      "metadata": {
        "id": "4XTzUiicjc9K"
      },
      "source": [
        "## Check balance data"
      ]
    },
    {
      "cell_type": "code",
      "metadata": {
        "colab": {
          "base_uri": "https://localhost:8080/"
        },
        "id": "a3Y0QLm9haVA",
        "outputId": "c507c9c1-cd1a-4f1b-d9d9-3647a2e8d43c"
      },
      "source": [
        "train[\"label\"].value_counts()"
      ],
      "execution_count": null,
      "outputs": [
        {
          "output_type": "execute_result",
          "data": {
            "text/plain": [
              "0    4176\n",
              "2    4064\n",
              "1    3880\n",
              "Name: label, dtype: int64"
            ]
          },
          "metadata": {
            "tags": []
          },
          "execution_count": 13
        }
      ]
    },
    {
      "cell_type": "code",
      "metadata": {
        "colab": {
          "base_uri": "https://localhost:8080/",
          "height": 575
        },
        "id": "rnWpM8WxjIoC",
        "outputId": "0391f1ff-c913-439d-9724-5e853ddbd4a2"
      },
      "source": [
        "labels, frequencies = np.unique(train.label.values, return_counts = True)\n",
        "plt.figure(figsize = (10,10))\n",
        "plt.pie(frequencies,labels =['entailment','neutral', 'contradiction'], autopct = '%1.1f%%')\n",
        "plt.show()"
      ],
      "execution_count": null,
      "outputs": [
        {
          "output_type": "display_data",
          "data": {
            "image/png": "[encoded data removed]",
            "text/plain": [
              "<Figure size 720x720 with 1 Axes>"
            ]
          },
          "metadata": {
            "tags": []
          }
        }
      ]
    },
    {
      "cell_type": "markdown",
      "metadata": {
        "id": "2l4E8i2gkoLK"
      },
      "source": [
        "## Data Preprocess"
      ]
    },
    {
      "cell_type": "code",
      "metadata": {
        "id": "np9WXFRqjtP5",
        "colab": {
          "base_uri": "https://localhost:8080/",
          "height": 165,
          "referenced_widgets": [
            "24e3a4e3e37240f7aa640706db4ec61c",
            "891f97f96fbf4d66bd58f0d784e3a275",
            "5486e1693c674b68aa8439c1c54d1b2c",
            "5112f6327be54eef970604b8d1659f70",
            "a2a8c6fcc3f740cebd93e12ef387981b",
            "a7fc08c1a5cd44129cedce22651019eb",
            "eaebc3d0398f4da99d355efb99012b06",
            "8b4fcd2499e24cae80cd4bc37477566d",
            "2851cc3244e54dee91c4e2483e7699f6",
            "5e8c30a296f84602bdeb67477d85ff0b",
            "ee6279c5ef78459185ae01934708c9ea",
            "5b1b003553624142b7d46017ab885042",
            "06d77a2176744061884cdfaf86af8212",
            "0e83a83556e94dcc990b307aebd3cf0c",
            "480d41a3289a4573b2f152d093ecc201",
            "4fd2ff55d164437687fd1e3e4110c975",
            "59e8b997427a4b7da2fb45a79e38381a",
            "64df2143540e4b449fbe0d0232364166",
            "1250dab8e4c34abbb270aefa4eab59e7",
            "5b554f215ade4c5fbb98c5a0ac67c517",
            "7ea38b7b4a0a4db0a21bc7818a960f23",
            "23e035c3824c472496aa1fbec1c211c9",
            "ba6964e1c1cd4f5aa968011a2773a732",
            "b7dd5bdd97474da6bd0ed77462432843"
          ]
        },
        "outputId": "888c3885-7cd8-4ca4-e05c-6a5093818040"
      },
      "source": [
        "model_name = 'bert-base-multilingual-cased'\n",
        "tokenizer = BertTokenizer.from_pretrained(model_name)"
      ],
      "execution_count": 9,
      "outputs": [
        {
          "output_type": "display_data",
          "data": {
            "application/vnd.jupyter.widget-view+json": {
              "model_id": "24e3a4e3e37240f7aa640706db4ec61c",
              "version_minor": 0,
              "version_major": 2
            },
            "text/plain": [
              "HBox(children=(FloatProgress(value=0.0, description='Downloading', max=995526.0, style=ProgressStyle(descripti…"
            ]
          },
          "metadata": {
            "tags": []
          }
        },
        {
          "output_type": "stream",
          "text": [
            "\n"
          ],
          "name": "stdout"
        },
        {
          "output_type": "display_data",
          "data": {
            "application/vnd.jupyter.widget-view+json": {
              "model_id": "2851cc3244e54dee91c4e2483e7699f6",
              "version_minor": 0,
              "version_major": 2
            },
            "text/plain": [
              "HBox(children=(FloatProgress(value=0.0, description='Downloading', max=29.0, style=ProgressStyle(description_w…"
            ]
          },
          "metadata": {
            "tags": []
          }
        },
        {
          "output_type": "stream",
          "text": [
            "\n"
          ],
          "name": "stdout"
        },
        {
          "output_type": "display_data",
          "data": {
            "application/vnd.jupyter.widget-view+json": {
              "model_id": "59e8b997427a4b7da2fb45a79e38381a",
              "version_minor": 0,
              "version_major": 2
            },
            "text/plain": [
              "HBox(children=(FloatProgress(value=0.0, description='Downloading', max=1961828.0, style=ProgressStyle(descript…"
            ]
          },
          "metadata": {
            "tags": []
          }
        },
        {
          "output_type": "stream",
          "text": [
            "\n"
          ],
          "name": "stdout"
        }
      ]
    },
    {
      "cell_type": "code",
      "metadata": {
        "id": "hNBZz0nLkq4a"
      },
      "source": [
        "def bert_encode(hypotheses, premises, tokenizer, max_len = 512):\n",
        "  all_tokens = []\n",
        "  all_masks = []\n",
        "  all_segments = []\n",
        "  num_examples = len(hypotheses)\n",
        "\n",
        "  for i in range(num_examples):\n",
        "    sent1 = hypotheses[i]\n",
        "    sent2 = premises[i]\n",
        "    max_len_sent1 = max_len//2 -2\n",
        "    max_len_sent2 = max_len_sent1+1\n",
        "\n",
        "    sent1 = tokenizer.tokenize(sent1)\n",
        "    sent2 = tokenizer.tokenize(sent2)\n",
        "    sent1 = sent1[:max_len_sent1]\n",
        "    sent2 = sent2[:max_len_sent2]\n",
        "\n",
        "    input_sequence = [\"[CLS]\"] + sent1 + [\"[SEP]\"] + sent2 + [\"[SEP]\"] \n",
        "    pad_len = max_len - len(input_sequence)\n",
        "\n",
        "    tokens = tokenizer.convert_tokens_to_ids(input_sequence) + [0]*pad_len\n",
        "    pad_masks = [1]*len(input_sequence) + [0]*pad_len\n",
        "    seqment_ids = [0]*(max_len_sent1+2) + [1]*(max_len_sent2+1)\n",
        "\n",
        "    all_tokens.append(tokens)\n",
        "    all_masks.append(pad_masks)\n",
        "    all_segments.append(seqment_ids)\n",
        "\n",
        "  return np.array(all_tokens), np.array(all_masks), np.array(all_segments)"
      ],
      "execution_count": null,
      "outputs": []
    },
    {
      "cell_type": "code",
      "metadata": {
        "id": "XictCxli6H0p"
      },
      "source": [
        "train_data = pd.DataFrame(train, columns=['hypothesis', 'premise'])\n",
        "labels = pd.DataFrame(train, columns=['label'])"
      ],
      "execution_count": 43,
      "outputs": []
    },
    {
      "cell_type": "code",
      "metadata": {
        "id": "fixg1ncD5crG"
      },
      "source": [
        "training_data, dev_data,training_label, dev_label = train_test_split(train_data, labels, test_size=0.2, random_state=13)"
      ],
      "execution_count": 44,
      "outputs": []
    },
    {
      "cell_type": "code",
      "metadata": {
        "id": "1nOJl_yBlUcL"
      },
      "source": [
        "train_input = bert_encode(training_data.hypothesis.values,training_data.premise.values, tokenizer,max_len=120)\n",
        "dev_input = bert_encode(dev_data.hypothesis.values,dev_data.premise.values, tokenizer,max_len=120)"
      ],
      "execution_count": null,
      "outputs": []
    },
    {
      "cell_type": "markdown",
      "metadata": {
        "id": "8jYGTpNUlYqM"
      },
      "source": [
        "## Create model"
      ]
    },
    {
      "cell_type": "code",
      "metadata": {
        "id": "hsr-HxLLlZ9x"
      },
      "source": [
        "def build_model(max_len = 512):\n",
        "  bert_encoder = TFBertModel.from_pretrained(model_name)\n",
        "  input_word_ids = tf.keras.Input(shape=(max_len,), dtype=tf.int32, name=\"input_word_ids\")\n",
        "  input_mask = tf.keras.Input(shape=(max_len,), dtype=tf.int32, name=\"input_mask\")\n",
        "  input_type_ids = tf.keras.Input(shape=(max_len,), dtype=tf.int32, name=\"input_type_ids\")\n",
        "    \n",
        "  embedding = bert_encoder([input_word_ids, input_mask, input_type_ids])[0]\n",
        "  output = tf.keras.layers.Dense(3, activation='softmax')(embedding[:,0,:])\n",
        "  model = tf.keras.Model(inputs=[input_word_ids, input_mask, input_type_ids], outputs=output)\n",
        "  model.compile(tf.keras.optimizers.Adam(lr=1e-5), loss='sparse_categorical_crossentropy', metrics=['accuracy'])\n",
        "    \n",
        "  return model"
      ],
      "execution_count": null,
      "outputs": []
    },
    {
      "cell_type": "code",
      "metadata": {
        "colab": {
          "base_uri": "https://localhost:8080/"
        },
        "id": "HQ5O2mLMlraf",
        "outputId": "150495c6-86f5-441c-badb-593e558c3d26"
      },
      "source": [
        "model = build_model(max_len=120)\n",
        "model.summary()"
      ],
      "execution_count": null,
      "outputs": [
        {
          "output_type": "stream",
          "text": [
            "Some layers from the model checkpoint at bert-base-multilingual-cased were not used when initializing TFBertModel: ['nsp___cls', 'mlm___cls']\n",
            "- This IS expected if you are initializing TFBertModel from the checkpoint of a model trained on another task or with another architecture (e.g. initializing a BertForSequenceClassification model from a BertForPreTraining model).\n",
            "- This IS NOT expected if you are initializing TFBertModel from the checkpoint of a model that you expect to be exactly identical (initializing a BertForSequenceClassification model from a BertForSequenceClassification model).\n",
            "All the layers of TFBertModel were initialized from the model checkpoint at bert-base-multilingual-cased.\n",
            "If your task is similar to the task the model of the checkpoint was trained on, you can already use TFBertModel for predictions without further training.\n"
          ],
          "name": "stderr"
        },
        {
          "output_type": "stream",
          "text": [
            "WARNING:tensorflow:The parameters `output_attentions`, `output_hidden_states` and `use_cache` cannot be updated when calling a model.They have to be set to True/False in the config object (i.e.: `config=XConfig.from_pretrained('name', output_attentions=True)`).\n",
            "WARNING:tensorflow:The parameter `return_dict` cannot be set in graph mode and will always be set to `True`.\n",
            "Model: \"model_6\"\n",
            "__________________________________________________________________________________________________\n",
            "Layer (type)                    Output Shape         Param #     Connected to                     \n",
            "==================================================================================================\n",
            "input_word_ids (InputLayer)     [(None, 120)]        0                                            \n",
            "__________________________________________________________________________________________________\n",
            "input_mask (InputLayer)         [(None, 120)]        0                                            \n",
            "__________________________________________________________________________________________________\n",
            "input_type_ids (InputLayer)     [(None, 120)]        0                                            \n",
            "__________________________________________________________________________________________________\n",
            "tf_bert_model_6 (TFBertModel)   TFBaseModelOutputWit 177853440   input_word_ids[0][0]             \n",
            "                                                                 input_mask[0][0]                 \n",
            "                                                                 input_type_ids[0][0]             \n",
            "__________________________________________________________________________________________________\n",
            "tf.__operators__.getitem_6 (Sli (None, 768)          0           tf_bert_model_6[0][0]            \n",
            "__________________________________________________________________________________________________\n",
            "dense_6 (Dense)                 (None, 3)            2307        tf.__operators__.getitem_6[0][0] \n",
            "==================================================================================================\n",
            "Total params: 177,855,747\n",
            "Trainable params: 177,855,747\n",
            "Non-trainable params: 0\n",
            "__________________________________________________________________________________________________\n"
          ],
          "name": "stdout"
        }
      ]
    },
    {
      "cell_type": "code",
      "metadata": {
        "colab": {
          "base_uri": "https://localhost:8080/"
        },
        "id": "7gZi6XS7x7ik",
        "outputId": "8be94eb6-5a62-41e4-8a19-610059b7160b"
      },
      "source": [
        "checkpoint = tf.keras.callbacks.ModelCheckpoint('/content/drive/MyDrive/NLI Waston project/model.h5', monitor='val_accuracy', save_best_only=True, verbose=1,save_weights_only=True)\n",
        "earlystopping = tf.keras.callbacks.EarlyStopping(monitor='val_accuracy', patience=5, verbose=1)\n",
        "train_history = model.fit(train_input, training_label, epochs = 5, verbose = 1, batch_size = 64, validation_data=(dev_input, dev_label), callbacks= [checkpoint, earlystopping])"
      ],
      "execution_count": null,
      "outputs": [
        {
          "output_type": "stream",
          "text": [
            "Epoch 1/5\n",
            "WARNING:tensorflow:The parameters `output_attentions`, `output_hidden_states` and `use_cache` cannot be updated when calling a model.They have to be set to True/False in the config object (i.e.: `config=XConfig.from_pretrained('name', output_attentions=True)`).\n",
            "WARNING:tensorflow:The parameter `return_dict` cannot be set in graph mode and will always be set to `True`.\n",
            "WARNING:tensorflow:Gradients do not exist for variables ['tf_bert_model_6/bert/pooler/dense/kernel:0', 'tf_bert_model_6/bert/pooler/dense/bias:0'] when minimizing the loss.\n",
            "WARNING:tensorflow:The parameters `output_attentions`, `output_hidden_states` and `use_cache` cannot be updated when calling a model.They have to be set to True/False in the config object (i.e.: `config=XConfig.from_pretrained('name', output_attentions=True)`).\n",
            "WARNING:tensorflow:The parameter `return_dict` cannot be set in graph mode and will always be set to `True`.\n",
            "WARNING:tensorflow:Gradients do not exist for variables ['tf_bert_model_6/bert/pooler/dense/kernel:0', 'tf_bert_model_6/bert/pooler/dense/bias:0'] when minimizing the loss.\n",
            "152/152 [==============================] - ETA: 0s - loss: 1.1379 - accuracy: 0.3539WARNING:tensorflow:The parameters `output_attentions`, `output_hidden_states` and `use_cache` cannot be updated when calling a model.They have to be set to True/False in the config object (i.e.: `config=XConfig.from_pretrained('name', output_attentions=True)`).\n",
            "WARNING:tensorflow:The parameter `return_dict` cannot be set in graph mode and will always be set to `True`.\n",
            "152/152 [==============================] - 255s 2s/step - loss: 1.1377 - accuracy: 0.3540 - val_loss: 1.0152 - val_accuracy: 0.5190\n",
            "\n",
            "Epoch 00001: val_accuracy improved from -inf to 0.51898, saving model to /content/drive/MyDrive/NLI Waston project/model.h5\n",
            "Epoch 2/5\n",
            "152/152 [==============================] - 239s 2s/step - loss: 0.9650 - accuracy: 0.5364 - val_loss: 0.8736 - val_accuracy: 0.6101\n",
            "\n",
            "Epoch 00002: val_accuracy improved from 0.51898 to 0.61015, saving model to /content/drive/MyDrive/NLI Waston project/model.h5\n",
            "Epoch 3/5\n",
            "152/152 [==============================] - 240s 2s/step - loss: 0.7676 - accuracy: 0.6620 - val_loss: 0.8502 - val_accuracy: 0.6291\n",
            "\n",
            "Epoch 00003: val_accuracy improved from 0.61015 to 0.62913, saving model to /content/drive/MyDrive/NLI Waston project/model.h5\n",
            "Epoch 4/5\n",
            "152/152 [==============================] - 239s 2s/step - loss: 0.6217 - accuracy: 0.7447 - val_loss: 0.8962 - val_accuracy: 0.6320\n",
            "\n",
            "Epoch 00004: val_accuracy improved from 0.62913 to 0.63201, saving model to /content/drive/MyDrive/NLI Waston project/model.h5\n",
            "Epoch 5/5\n",
            "152/152 [==============================] - 240s 2s/step - loss: 0.4790 - accuracy: 0.8092 - val_loss: 1.1342 - val_accuracy: 0.6163\n",
            "\n",
            "Epoch 00005: val_accuracy did not improve from 0.63201\n"
          ],
          "name": "stdout"
        }
      ]
    },
    {
      "cell_type": "code",
      "metadata": {
        "colab": {
          "base_uri": "https://localhost:8080/"
        },
        "id": "j8g-4o_1D-Py",
        "outputId": "d225880a-0bdb-4136-91f3-ff573592387a"
      },
      "source": [
        "y_pred = model.predict(dev_input)\n",
        "y_pred2 = []\n",
        "for row in y_pred:\n",
        "  pred = np.argmax(row)\n",
        "  y_pred2.append(pred)"
      ],
      "execution_count": null,
      "outputs": [
        {
          "output_type": "stream",
          "text": [
            "WARNING:tensorflow:The parameters `output_attentions`, `output_hidden_states` and `use_cache` cannot be updated when calling a model.They have to be set to True/False in the config object (i.e.: `config=XConfig.from_pretrained('name', output_attentions=True)`).\n",
            "WARNING:tensorflow:The parameter `return_dict` cannot be set in graph mode and will always be set to `True`.\n"
          ],
          "name": "stdout"
        }
      ]
    },
    {
      "cell_type": "code",
      "metadata": {
        "colab": {
          "base_uri": "https://localhost:8080/"
        },
        "id": "r5LjqgHIEPqZ",
        "outputId": "8efc2cdf-f9c5-4cdc-9688-98aa309019cb"
      },
      "source": [
        "from sklearn.metrics import classification_report\n",
        "target_names = ['entailment','neutral', 'contradiction']\n",
        "print(classification_report(dev_label, y_pred2, target_names=target_names))"
      ],
      "execution_count": null,
      "outputs": [
        {
          "output_type": "stream",
          "text": [
            "               precision    recall  f1-score   support\n",
            "\n",
            "   entailment       0.74      0.52      0.61       851\n",
            "      neutral       0.55      0.70      0.61       773\n",
            "contradiction       0.61      0.64      0.62       800\n",
            "\n",
            "     accuracy                           0.62      2424\n",
            "    macro avg       0.63      0.62      0.62      2424\n",
            " weighted avg       0.64      0.62      0.62      2424\n",
            "\n"
          ],
          "name": "stdout"
        }
      ]
    },
    {
      "cell_type": "markdown",
      "metadata": {
        "id": "RihUF_4zb1GZ"
      },
      "source": [
        "## Sequence2Sequence"
      ]
    },
    {
      "cell_type": "markdown",
      "metadata": {
        "id": "Tdbw6GRecHai"
      },
      "source": [
        "### Data preprocess"
      ]
    },
    {
      "cell_type": "code",
      "metadata": {
        "id": "JLNjf7eVfwzn"
      },
      "source": [
        "max_len = 120\n",
        "\n",
        "input_tokens = []\n",
        "target_tokens = []\n",
        "total = []\n",
        "for i, (input_text, target_text) in enumerate(zip(training_data.hypothesis.values, training_data.premise.values)):\n",
        "  input_token = tokenizer.tokenize(input_text)\n",
        "  input_token = tokenizer.convert_tokens_to_ids(input_token)\n",
        "  target_token = tokenizer.tokenize(target_text)\n",
        "  target_token = tokenizer.convert_tokens_to_ids(target_token)\n",
        "  for token in input_token:\n",
        "    total.append(token)\n",
        "  for token in target_token:\n",
        "    total.append(token)\n",
        "  input_tokens.append(input_token)\n",
        "  target_tokens.append(target_token)\n",
        "\n",
        "max_encoder_seq_length = max([len(token) for token in input_tokens])\n",
        "max_decoder_seq_length = max([len(token) for token in target_tokens])\n",
        "\n",
        "for i,input_token in enumerate(input_tokens):\n",
        "  input_tokens[i] = tf.keras.preprocessing.sequence.pad_sequences([input_token], maxlen=max_len, dtype='float32', padding='post', truncating='post')\n",
        "\n",
        "for i,target_token in enumerate(target_tokens):\n",
        "  target_tokens[i] = tf.keras.preprocessing.sequence.pad_sequences([target_token], maxlen=max_len, dtype='float32', padding='post', truncating='post')\n",
        "\n",
        "input_tokens = np.array(input_tokens)\n",
        "input_tokens = np.reshape(input_tokens, (input_tokens.shape[0],input_tokens.shape[2]) + (1,))\n",
        "target_tokens = np.array(target_tokens)\n",
        "target_tokens = np.reshape(target_tokens, (target_tokens.shape[0],target_tokens.shape[2]) + (1,))\n",
        "\n",
        "seq2seq_training_data = []\n",
        "for i in range(input_tokens.shape[0]):\n",
        "  pair = [input_tokens[i],target_tokens[i]]\n",
        "  seq2seq_training_data.append(pair)\n",
        "seq2seq_training_data = np.array(seq2seq_training_data)"
      ],
      "execution_count": 45,
      "outputs": []
    },
    {
      "cell_type": "code",
      "metadata": {
        "id": "pwciVO0-HODL",
        "colab": {
          "base_uri": "https://localhost:8080/"
        },
        "outputId": "7883f920-b8de-4c82-f4e0-ad88c0d3b9fd"
      },
      "source": [
        "max_len = 120\n",
        "\n",
        "dev_input_tokens = []\n",
        "dev_target_tokens = []\n",
        "total = []\n",
        "for i, (input_text, target_text) in enumerate(zip(dev_data.hypothesis.values, dev_data.premise.values)):\n",
        "  input_token = tokenizer.tokenize(input_text) \n",
        "  input_token = tokenizer.convert_tokens_to_ids(input_token)\n",
        "  target_token = tokenizer.tokenize(target_text)\n",
        "  target_token = tokenizer.convert_tokens_to_ids(target_token)\n",
        "\n",
        "  dev_input_tokens.append(input_token)\n",
        "  dev_target_tokens.append(target_token)\n",
        "\n",
        "for i,input_token in enumerate(dev_input_tokens):\n",
        "  dev_input_tokens[i] = tf.keras.preprocessing.sequence.pad_sequences([input_token], maxlen=max_len, dtype='float32', padding='post', truncating='post')\n",
        "\n",
        "for i,target_token in enumerate(dev_target_tokens):\n",
        "  dev_target_tokens[i] = tf.keras.preprocessing.sequence.pad_sequences([target_token], maxlen=max_len, dtype='float32', padding='post', truncating='post')\n",
        "\n",
        "dev_input_tokens = np.array(dev_input_tokens)\n",
        "dev_input_tokens = np.reshape(dev_input_tokens, (dev_input_tokens.shape[0],dev_input_tokens.shape[2]) + (1,))\n",
        "dev_target_tokens = np.array(dev_target_tokens)\n",
        "dev_target_tokens = np.reshape(dev_target_tokens, (dev_target_tokens.shape[0],dev_target_tokens.shape[2]) + (1,))\n",
        "\n",
        "seq2seq_dev_data = []\n",
        "for i in range(dev_input_tokens.shape[0]):\n",
        "  pair = [dev_input_tokens[i],dev_target_tokens[i]]\n",
        "  seq2seq_dev_data.append(pair)\n",
        "seq2seq_dev_data = np.array(seq2seq_dev_data)\n",
        "seq2seq_dev_data.shape"
      ],
      "execution_count": 103,
      "outputs": [
        {
          "output_type": "execute_result",
          "data": {
            "text/plain": [
              "(2424, 2, 120, 1)"
            ]
          },
          "metadata": {
            "tags": []
          },
          "execution_count": 103
        }
      ]
    },
    {
      "cell_type": "code",
      "metadata": {
        "id": "m4b2D1Mvy-Bm"
      },
      "source": [
        "def create_base_network(input_shape): \n",
        "  model = Sequential()\n",
        "  model.add(layers.Embedding(input_dim=111586, output_dim=100))\n",
        "  model.add(layers.Dropout(0.4))\n",
        "  model.add(layers.Bidirectional(layers.LSTM(64, return_sequences=True)))\n",
        "  model.add(layers.Dropout(0.4))\n",
        "  model.add(layers.Bidirectional(layers.LSTM(64, return_sequences=False)))\n",
        "  model.add(layers.Dense(64, activation='relu'))\n",
        "  return model\n",
        "def cosine_distance(vects): \n",
        "  x,y=vects  \n",
        "  t1_norm = tf.nn.l2_normalize(x, axis = 1)\n",
        "  t2_norm = tf.nn.l2_normalize(y, axis = 1)\n",
        "\n",
        "  cosine =  -tf.losses.cosine_similarity(t1_norm, t2_norm, axis = 1)\n",
        "  return 1-cosine\n",
        "\n",
        "# def euclidean_distance(vectors):\n",
        "# \t# unpack the vectors into separate lists\n",
        "# \t(featsA, featsB) = vectors\n",
        "# \t# compute the sum of squared distances between the vectors\n",
        "# \tsumSquared = K.sum(K.square(featsA - featsB), axis=1,\n",
        "# \t\tkeepdims=True)\n",
        "# \t# return the euclidean distance between the vectors\n",
        "# \treturn K.sqrt(K.maximum(sumSquared, K.epsilon()))\n",
        "\n",
        "\n",
        "def euclidean_distance(vects):\n",
        "    x, y = vects\n",
        "    sum_square = K.sum(K.square(x - y), axis=1, keepdims=True)\n",
        "    return K.sqrt(K.maximum(sum_square, K.epsilon()))\n",
        "\n",
        "\n",
        "def eucl_dist_output_shape(shapes):\n",
        "    shape1, shape2 = shapes\n",
        "    return (shape1[0], 1)\n",
        "\n",
        "\n",
        "def cos_dist_output_shape(shapes): \n",
        "  shape1, shape2 = shapes \n",
        "  return (shape1[0], 1)\n",
        "\n",
        "def build_model(input_shape): \n",
        "  base_network = create_base_network(input_shape);\n",
        "  input_a = layers.Input(shape=input_shape);\n",
        "  input_b = layers.Input(shape=input_shape);\n",
        "\n",
        "  processed_a = base_network(input_a);\n",
        "  processed_b = base_network(input_b);\n",
        "\n",
        "  #distance = layers.Lambda(cosine_distance, output_shape=cos_dist_output_shape)([processed_a, processed_b]);\n",
        "  #distance = layers.LambdaMerge([input1, input2], euclidean_distance)\n",
        "  distance = layers.Lambda(euclidean_distance, output_shape=eucl_dist_output_shape)([processed_a, processed_b])\n",
        "  distance = distance*tf.ones((1,1), dtype=tf.dtypes.float32)\n",
        "  #distance = tf.transpose(distance, perm=[1,0])\n",
        "  #print(distance.shape)\n",
        "  #distance = tf.keras.layers.Reshape((1,))([distance])\n",
        "  clf_layer = layers.Dense(3, activation='softmax')(distance)\n",
        "  model = keras.Model([input_a, input_b], clf_layer);\n",
        " \n",
        "  model.compile(loss='categorical_crossentropy', optimizer=Adam(learning_rate=0.001), metrics=['accuracy']) \n",
        "  return model"
      ],
      "execution_count": 69,
      "outputs": []
    },
    {
      "cell_type": "code",
      "metadata": {
        "id": "HIxetg71v11Z"
      },
      "source": [
        "model = build_model(seq2seq_training_data.shape[2:])"
      ],
      "execution_count": 104,
      "outputs": []
    },
    {
      "cell_type": "code",
      "metadata": {
        "colab": {
          "base_uri": "https://localhost:8080/"
        },
        "id": "W3JMetVG8_Vj",
        "outputId": "ad027f7c-9783-463d-9bf8-ffa22ccce682"
      },
      "source": [
        "model.summary()"
      ],
      "execution_count": null,
      "outputs": [
        {
          "output_type": "stream",
          "text": [
            "Model: \"model_8\"\n",
            "__________________________________________________________________________________________________\n",
            "Layer (type)                    Output Shape         Param #     Connected to                     \n",
            "==================================================================================================\n",
            "input_83 (InputLayer)           [(None, 120, 1)]     0                                            \n",
            "__________________________________________________________________________________________________\n",
            "input_84 (InputLayer)           [(None, 120, 1)]     0                                            \n",
            "__________________________________________________________________________________________________\n",
            "sequential_50 (Sequential)      (None, 128)          14086208    input_83[0][0]                   \n",
            "                                                                 input_84[0][0]                   \n",
            "__________________________________________________________________________________________________\n",
            "lambda_36 (Lambda)              (None, 1)            0           sequential_50[0][0]              \n",
            "                                                                 sequential_50[1][0]              \n",
            "__________________________________________________________________________________________________\n",
            "tf.math.multiply_19 (TFOpLambda (None, 1)            0           lambda_36[0][0]                  \n",
            "__________________________________________________________________________________________________\n",
            "dense_68 (Dense)                (None, 3)            6           tf.math.multiply_19[0][0]        \n",
            "==================================================================================================\n",
            "Total params: 14,086,214\n",
            "Trainable params: 14,086,214\n",
            "Non-trainable params: 0\n",
            "__________________________________________________________________________________________________\n"
          ],
          "name": "stdout"
        }
      ]
    },
    {
      "cell_type": "code",
      "metadata": {
        "id": "GJgeyXZXBVgM"
      },
      "source": [
        "seq2seq_training_labels = []\n",
        "for l in training_label:\n",
        "  tmp = np.zeros((3,))\n",
        "  tmp[l] = 1\n",
        "  seq2seq_training_labels.append(tmp)\n",
        "\n",
        "seq2seq_training_labels = np.array(seq2seq_training_labels)"
      ],
      "execution_count": 18,
      "outputs": []
    },
    {
      "cell_type": "code",
      "metadata": {
        "id": "mDV8PaDiS27l"
      },
      "source": [
        "seq2seq_dev_labels = []\n",
        "for l in dev_label:\n",
        "  tmp = np.zeros((3,))\n",
        "  tmp[l] = 1\n",
        "  seq2seq_dev_labels.append(tmp)\n",
        "\n",
        "seq2seq_dev_labels = np.array(seq2seq_dev_labels)"
      ],
      "execution_count": 19,
      "outputs": []
    },
    {
      "cell_type": "code",
      "metadata": {
        "colab": {
          "base_uri": "https://localhost:8080/"
        },
        "id": "d_sB5mo7-3lz",
        "outputId": "1d27fe73-0da6-4518-9879-2287d59f0e19"
      },
      "source": [
        "checkpoint = tf.keras.callbacks.ModelCheckpoint('/content/drive/MyDrive/NLI Waston project/seq2seq_model.h5', monitor='val_accuracy', save_best_only=True, verbose=1)\n",
        "earlystopping = tf.keras.callbacks.EarlyStopping(monitor='val_accuracy', patience=5, verbose=1)\n",
        "model.fit([seq2seq_training_data[:,0],seq2seq_training_data[:,1]] , seq2seq_training_labels, epochs=5, batch_size=64, validation_data=([seq2seq_dev_data[:,0], seq2seq_dev_data[:,1]], seq2seq_dev_labels), verbose=1, callbacks=[checkpoint, earlystopping])"
      ],
      "execution_count": 105,
      "outputs": [
        {
          "output_type": "stream",
          "text": [
            "Epoch 1/5\n",
            "152/152 [==============================] - 35s 178ms/step - loss: 1.0991 - accuracy: 0.3327 - val_loss: 1.0981 - val_accuracy: 0.3568\n",
            "\n",
            "Epoch 00001: val_accuracy improved from -inf to 0.35685, saving model to /content/drive/MyDrive/NLI Waston project/seq2seq_model.h5\n",
            "Epoch 2/5\n",
            "152/152 [==============================] - 25s 165ms/step - loss: 1.0948 - accuracy: 0.3511 - val_loss: 1.0999 - val_accuracy: 0.3379\n",
            "\n",
            "Epoch 00002: val_accuracy did not improve from 0.35685\n",
            "Epoch 3/5\n",
            "152/152 [==============================] - 25s 162ms/step - loss: 1.0536 - accuracy: 0.4038 - val_loss: 1.1078 - val_accuracy: 0.3564\n",
            "\n",
            "Epoch 00003: val_accuracy did not improve from 0.35685\n",
            "Epoch 4/5\n",
            "152/152 [==============================] - 25s 163ms/step - loss: 0.9623 - accuracy: 0.4866 - val_loss: 1.1411 - val_accuracy: 0.3593\n",
            "\n",
            "Epoch 00004: val_accuracy improved from 0.35685 to 0.35932, saving model to /content/drive/MyDrive/NLI Waston project/seq2seq_model.h5\n",
            "Epoch 5/5\n",
            "152/152 [==============================] - 26s 168ms/step - loss: 0.8814 - accuracy: 0.5474 - val_loss: 1.1857 - val_accuracy: 0.3577\n",
            "\n",
            "Epoch 00005: val_accuracy did not improve from 0.35932\n"
          ],
          "name": "stdout"
        },
        {
          "output_type": "execute_result",
          "data": {
            "text/plain": [
              "<tensorflow.python.keras.callbacks.History at 0x7f8e1f29e150>"
            ]
          },
          "metadata": {
            "tags": []
          },
          "execution_count": 105
        }
      ]
    },
    {
      "cell_type": "code",
      "metadata": {
        "colab": {
          "base_uri": "https://localhost:8080/"
        },
        "id": "EolRUyXcfUPX",
        "outputId": "8ca42ddf-8074-4cda-ea86-ee38483142da"
      },
      "source": [
        "model.fit([seq2seq_training_data[:,0],seq2seq_training_data[:,1]] , seq2seq_training_labels, epochs=5, batch_size=64, validation_data=([seq2seq_dev_data[:,0], seq2seq_dev_data[:,1]], seq2seq_dev_labels), verbose=1, callbacks=[checkpoint, earlystopping])"
      ],
      "execution_count": 106,
      "outputs": [
        {
          "output_type": "stream",
          "text": [
            "Epoch 1/5\n",
            "152/152 [==============================] - 25s 164ms/step - loss: 0.8033 - accuracy: 0.5859 - val_loss: 1.2817 - val_accuracy: 0.3577\n",
            "\n",
            "Epoch 00001: val_accuracy did not improve from 0.35932\n",
            "Epoch 2/5\n",
            "152/152 [==============================] - 25s 161ms/step - loss: 0.7473 - accuracy: 0.6132 - val_loss: 1.2667 - val_accuracy: 0.3684\n",
            "\n",
            "Epoch 00002: val_accuracy improved from 0.35932 to 0.36840, saving model to /content/drive/MyDrive/NLI Waston project/seq2seq_model.h5\n",
            "Epoch 3/5\n",
            "152/152 [==============================] - 25s 163ms/step - loss: 0.6956 - accuracy: 0.6288 - val_loss: 1.2626 - val_accuracy: 0.3560\n",
            "\n",
            "Epoch 00003: val_accuracy did not improve from 0.36840\n",
            "Epoch 4/5\n",
            "152/152 [==============================] - 25s 162ms/step - loss: 0.6568 - accuracy: 0.6387 - val_loss: 1.3327 - val_accuracy: 0.3601\n",
            "\n",
            "Epoch 00004: val_accuracy did not improve from 0.36840\n",
            "Epoch 5/5\n",
            "152/152 [==============================] - 24s 161ms/step - loss: 0.6263 - accuracy: 0.6440 - val_loss: 1.4319 - val_accuracy: 0.3614\n",
            "\n",
            "Epoch 00005: val_accuracy did not improve from 0.36840\n"
          ],
          "name": "stdout"
        },
        {
          "output_type": "execute_result",
          "data": {
            "text/plain": [
              "<tensorflow.python.keras.callbacks.History at 0x7f8e48cb8b10>"
            ]
          },
          "metadata": {
            "tags": []
          },
          "execution_count": 106
        }
      ]
    },
    {
      "cell_type": "code",
      "metadata": {
        "colab": {
          "base_uri": "https://localhost:8080/"
        },
        "id": "5HETyu2Kf1Nv",
        "outputId": "7302a08c-1565-40fc-c91e-30a66a671ede"
      },
      "source": [
        "model.fit([seq2seq_training_data[:,0],seq2seq_training_data[:,1]] , seq2seq_training_labels, epochs=10, batch_size=64, validation_data=([seq2seq_dev_data[:,0], seq2seq_dev_data[:,1]], seq2seq_dev_labels), verbose=1, callbacks=[checkpoint, earlystopping])"
      ],
      "execution_count": 107,
      "outputs": [
        {
          "output_type": "stream",
          "text": [
            "Epoch 1/10\n",
            "152/152 [==============================] - 25s 161ms/step - loss: 0.6000 - accuracy: 0.6529 - val_loss: 1.4052 - val_accuracy: 0.3593\n",
            "\n",
            "Epoch 00001: val_accuracy did not improve from 0.36840\n",
            "Epoch 2/10\n",
            "152/152 [==============================] - 25s 162ms/step - loss: 0.5857 - accuracy: 0.6546 - val_loss: 1.4487 - val_accuracy: 0.3585\n",
            "\n",
            "Epoch 00002: val_accuracy did not improve from 0.36840\n",
            "Epoch 3/10\n",
            "152/152 [==============================] - 24s 160ms/step - loss: 0.5678 - accuracy: 0.6594 - val_loss: 1.4746 - val_accuracy: 0.3568\n",
            "\n",
            "Epoch 00003: val_accuracy did not improve from 0.36840\n",
            "Epoch 4/10\n",
            "152/152 [==============================] - 24s 161ms/step - loss: 0.5520 - accuracy: 0.6633 - val_loss: 1.5382 - val_accuracy: 0.3556\n",
            "\n",
            "Epoch 00004: val_accuracy did not improve from 0.36840\n",
            "Epoch 5/10\n",
            "152/152 [==============================] - 25s 163ms/step - loss: 0.5466 - accuracy: 0.6645 - val_loss: 1.5457 - val_accuracy: 0.3564\n",
            "\n",
            "Epoch 00005: val_accuracy did not improve from 0.36840\n",
            "Epoch 6/10\n",
            "152/152 [==============================] - 24s 161ms/step - loss: 0.5332 - accuracy: 0.6660 - val_loss: 1.5851 - val_accuracy: 0.3498\n",
            "\n",
            "Epoch 00006: val_accuracy did not improve from 0.36840\n",
            "Epoch 00006: early stopping\n"
          ],
          "name": "stdout"
        },
        {
          "output_type": "execute_result",
          "data": {
            "text/plain": [
              "<tensorflow.python.keras.callbacks.History at 0x7f8e48c17a90>"
            ]
          },
          "metadata": {
            "tags": []
          },
          "execution_count": 107
        }
      ]
    },
    {
      "cell_type": "code",
      "metadata": {
        "id": "6QkDL_4xWA0u"
      },
      "source": [
        "y_pred = model.predict([seq2seq_dev_data[:,0],seq2seq_dev_data[:,1]])"
      ],
      "execution_count": 108,
      "outputs": []
    },
    {
      "cell_type": "code",
      "metadata": {
        "id": "D8C9keX9WLpw"
      },
      "source": [
        "y_pred2 = []\n",
        "for row in y_pred:\n",
        "  pred = np.argmax(row)\n",
        "  y_pred2.append(pred)"
      ],
      "execution_count": 111,
      "outputs": []
    },
    {
      "cell_type": "code",
      "metadata": {
        "colab": {
          "base_uri": "https://localhost:8080/"
        },
        "id": "2xFK3GswWX-I",
        "outputId": "d136a6d8-6b42-4471-8ce9-7bdad7f485d9"
      },
      "source": [
        "from sklearn.metrics import classification_report\n",
        "target_names = ['entailment','neutral', 'contradiction']\n",
        "print(classification_report(dev_label, y_pred2, target_names=target_names))"
      ],
      "execution_count": 113,
      "outputs": [
        {
          "output_type": "stream",
          "text": [
            "               precision    recall  f1-score   support\n",
            "\n",
            "   entailment       0.36      0.79      0.49       859\n",
            "      neutral       0.00      0.00      0.00       755\n",
            "contradiction       0.32      0.21      0.25       810\n",
            "\n",
            "     accuracy                           0.35      2424\n",
            "    macro avg       0.23      0.33      0.25      2424\n",
            " weighted avg       0.23      0.35      0.26      2424\n",
            "\n"
          ],
          "name": "stdout"
        },
        {
          "output_type": "stream",
          "text": [
            "/usr/local/lib/python3.7/dist-packages/sklearn/metrics/_classification.py:1272: UndefinedMetricWarning: Precision and F-score are ill-defined and being set to 0.0 in labels with no predicted samples. Use `zero_division` parameter to control this behavior.\n",
            "  _warn_prf(average, modifier, msg_start, len(result))\n"
          ],
          "name": "stderr"
        }
      ]
    },
    {
      "cell_type": "code",
      "metadata": {
        "colab": {
          "base_uri": "https://localhost:8080/"
        },
        "id": "023urtqTCcCd",
        "outputId": "8aadb0ee-2921-4a3f-8571-92b47b54b70b"
      },
      "source": [
        "tf.config.experimental_run_functions_eagerly(True)"
      ],
      "execution_count": null,
      "outputs": [
        {
          "output_type": "stream",
          "text": [
            "WARNING:tensorflow:From <ipython-input-111-bdb3352f611a>:1: experimental_run_functions_eagerly (from tensorflow.python.eager.def_function) is deprecated and will be removed in a future version.\n",
            "Instructions for updating:\n",
            "Use `tf.config.run_functions_eagerly` instead of the experimental version.\n"
          ],
          "name": "stdout"
        }
      ]
    }
  ]
}